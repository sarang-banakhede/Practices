{
 "cells": [
  {
   "cell_type": "code",
   "execution_count": 1,
   "metadata": {},
   "outputs": [],
   "source": [
    "import numpy as np\n",
    "import pandas as pd\n",
    "from sklearn.model_selection import train_test_split"
   ]
  },
  {
   "cell_type": "code",
   "execution_count": 2,
   "metadata": {},
   "outputs": [],
   "source": [
    "np.random.seed(42)"
   ]
  },
  {
   "cell_type": "code",
   "execution_count": 3,
   "metadata": {},
   "outputs": [
    {
     "data": {
      "text/html": [
       "<div>\n",
       "<style scoped>\n",
       "    .dataframe tbody tr th:only-of-type {\n",
       "        vertical-align: middle;\n",
       "    }\n",
       "\n",
       "    .dataframe tbody tr th {\n",
       "        vertical-align: top;\n",
       "    }\n",
       "\n",
       "    .dataframe thead th {\n",
       "        text-align: right;\n",
       "    }\n",
       "</style>\n",
       "<table border=\"1\" class=\"dataframe\">\n",
       "  <thead>\n",
       "    <tr style=\"text-align: right;\">\n",
       "      <th></th>\n",
       "      <th>Age</th>\n",
       "      <th>Height</th>\n",
       "      <th>Weight</th>\n",
       "    </tr>\n",
       "  </thead>\n",
       "  <tbody>\n",
       "    <tr>\n",
       "      <th>0</th>\n",
       "      <td>56</td>\n",
       "      <td>176.363051</td>\n",
       "      <td>44.473645</td>\n",
       "    </tr>\n",
       "    <tr>\n",
       "      <th>1</th>\n",
       "      <td>46</td>\n",
       "      <td>160.932793</td>\n",
       "      <td>66.427742</td>\n",
       "    </tr>\n",
       "    <tr>\n",
       "      <th>2</th>\n",
       "      <td>32</td>\n",
       "      <td>174.760426</td>\n",
       "      <td>77.005827</td>\n",
       "    </tr>\n",
       "    <tr>\n",
       "      <th>3</th>\n",
       "      <td>60</td>\n",
       "      <td>183.036613</td>\n",
       "      <td>66.829050</td>\n",
       "    </tr>\n",
       "    <tr>\n",
       "      <th>4</th>\n",
       "      <td>25</td>\n",
       "      <td>172.115870</td>\n",
       "      <td>57.783233</td>\n",
       "    </tr>\n",
       "  </tbody>\n",
       "</table>\n",
       "</div>"
      ],
      "text/plain": [
       "   Age      Height     Weight\n",
       "0   56  176.363051  44.473645\n",
       "1   46  160.932793  66.427742\n",
       "2   32  174.760426  77.005827\n",
       "3   60  183.036613  66.829050\n",
       "4   25  172.115870  57.783233"
      ]
     },
     "execution_count": 3,
     "metadata": {},
     "output_type": "execute_result"
    }
   ],
   "source": [
    "data={\n",
    "    'Age': np.random.randint(18, 65, size=100),  # Generate random ages between 18 and 65\n",
    "    'Height': np.random.normal(170, 10, size=100),  # Generate heights from a normal distribution with mean 170 and standard deviation 10\n",
    "    'Weight': np.random.normal(65, 12, size=100)  # Generate weights from a normal distribution with mean 65 and standard deviation 12\n",
    "}\n",
    "df=pd.DataFrame(data)\n",
    "df.head()"
   ]
  },
  {
   "cell_type": "code",
   "execution_count": 4,
   "metadata": {},
   "outputs": [],
   "source": [
    "X=df.drop(\"Weight\",axis=1)\n",
    "Y=df[\"Weight\"]"
   ]
  },
  {
   "cell_type": "code",
   "execution_count": 5,
   "metadata": {},
   "outputs": [],
   "source": [
    "X_train,X_test,Y_train,Y_test=train_test_split(X,Y,test_size=0.33,random_state=42)"
   ]
  },
  {
   "attachments": {},
   "cell_type": "markdown",
   "metadata": {},
   "source": [
    "# [intercept,[coefficient]] = inv(trans(X).X).trans(X).Y"
   ]
  },
  {
   "cell_type": "code",
   "execution_count": 15,
   "metadata": {},
   "outputs": [],
   "source": [
    "class regressor():\n",
    "    def __init__(self):\n",
    "        self.coefficient=None\n",
    "        self.intrecept=None\n",
    "    def fit(self,x,y):\n",
    "        x=np.insert(x,0,1,axis=1)\n",
    "\n",
    "        B=np.linalg.inv(np.dot(x.T,x)).dot(x.T).dot(y)\n",
    "        self.intrecept=B[0]\n",
    "        self.coefficient=B[1:]\n",
    "\n",
    "    def predict(self,x):\n",
    "        return   np.dot(x,self.coefficient)+self.intrecept"
   ]
  },
  {
   "cell_type": "code",
   "execution_count": 16,
   "metadata": {},
   "outputs": [],
   "source": [
    "r=regressor()\n",
    "r.fit(X_train,Y_train)"
   ]
  },
  {
   "cell_type": "code",
   "execution_count": 17,
   "metadata": {},
   "outputs": [
    {
     "data": {
      "text/plain": [
       "array([63.9849743 , 67.69856951, 66.76389892, 64.9356814 , 64.44236909,\n",
       "       64.84237814, 62.39507763, 64.65070436, 62.77234647, 66.20390487,\n",
       "       65.64241293, 65.74921163, 64.41732439, 63.2694695 , 65.6971923 ,\n",
       "       63.02697883, 63.2341271 , 63.70381626, 66.00714675, 64.80405301,\n",
       "       68.8006499 , 67.97855364, 65.41725403, 63.74912709, 68.84810625,\n",
       "       62.6952918 , 63.93497749, 63.14528923, 64.44403069, 67.44173605,\n",
       "       63.62225858, 65.64936201, 65.56390275])"
      ]
     },
     "execution_count": 17,
     "metadata": {},
     "output_type": "execute_result"
    }
   ],
   "source": [
    "r.predict(X_test)"
   ]
  },
  {
   "cell_type": "code",
   "execution_count": 18,
   "metadata": {},
   "outputs": [
    {
     "data": {
      "text/plain": [
       "array([63.9849743 , 67.69856951, 66.76389892, 64.9356814 , 64.44236909,\n",
       "       64.84237814, 62.39507763, 64.65070436, 62.77234647, 66.20390487,\n",
       "       65.64241293, 65.74921163, 64.41732439, 63.2694695 , 65.6971923 ,\n",
       "       63.02697883, 63.2341271 , 63.70381626, 66.00714675, 64.80405301,\n",
       "       68.8006499 , 67.97855364, 65.41725403, 63.74912709, 68.84810625,\n",
       "       62.6952918 , 63.93497749, 63.14528923, 64.44403069, 67.44173605,\n",
       "       63.62225858, 65.64936201, 65.56390275])"
      ]
     },
     "execution_count": 18,
     "metadata": {},
     "output_type": "execute_result"
    }
   ],
   "source": [
    "from sklearn.linear_model import LinearRegression\n",
    "r1=LinearRegression()\n",
    "r1.fit(X_train,Y_train)\n",
    "r1.predict(X_test)"
   ]
  },
  {
   "cell_type": "code",
   "execution_count": null,
   "metadata": {},
   "outputs": [],
   "source": []
  }
 ],
 "metadata": {
  "kernelspec": {
   "display_name": "Python 3",
   "language": "python",
   "name": "python3"
  },
  "language_info": {
   "codemirror_mode": {
    "name": "ipython",
    "version": 3
   },
   "file_extension": ".py",
   "mimetype": "text/x-python",
   "name": "python",
   "nbconvert_exporter": "python",
   "pygments_lexer": "ipython3",
   "version": "3.11.3"
  },
  "orig_nbformat": 4
 },
 "nbformat": 4,
 "nbformat_minor": 2
}
