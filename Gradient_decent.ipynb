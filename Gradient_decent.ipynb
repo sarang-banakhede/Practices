{
 "cells": [
  {
   "cell_type": "code",
   "execution_count": 105,
   "metadata": {},
   "outputs": [],
   "source": [
    "import pandas as pd\n",
    "import numpy as np\n",
    "import seaborn as sns\n",
    "import matplotlib.pyplot as plt\n",
    "from sklearn.metrics import r2_score\n",
    "from sklearn.datasets import make_regression"
   ]
  },
  {
   "attachments": {},
   "cell_type": "markdown",
   "metadata": {},
   "source": [
    "# gradient decent regression"
   ]
  },
  {
   "cell_type": "code",
   "execution_count": 106,
   "metadata": {},
   "outputs": [],
   "source": [
    "x,y=make_regression(n_samples=100,n_features=3,n_targets=1,n_informative=3,noise=30,random_state=10)"
   ]
  },
  {
   "cell_type": "code",
   "execution_count": 141,
   "metadata": {},
   "outputs": [],
   "source": [
    "class GDRegression:\n",
    "    def __init__(self,learning_rate=0.01,epochs=100):\n",
    "        self.coef_=None\n",
    "        self.intercept_=None\n",
    "        self.learning_rate=learning_rate\n",
    "        self.epochs=epochs\n",
    "\n",
    "    def fit(self,x,y):\n",
    "        self.coef_=np.ones(x.shape[1])\n",
    "        self.intercept_=1\n",
    "\n",
    "        # update the values\n",
    "        for i in range(self.epochs):\n",
    "            for j in range(x.shape[1]):\n",
    "                slope=(-2/x.shape[0])*(((y-np.dot(x,self.coef_)-self.intercept_)*x[:,j]).sum())\n",
    "                self.coef_[j]-=self.learning_rate*slope\n",
    "            slope=(-2/x.shape[0])*((y-np.dot(x,self.coef_)).sum())\n",
    "            self.intercept_-=self.learning_rate*slope    \n",
    "\n",
    "    def predict(self,x):\n",
    "        return np.dot(x,self.coef_)+self.intercept_                \n"
   ]
  },
  {
   "attachments": {},
   "cell_type": "markdown",
   "metadata": {},
   "source": [
    "to find best epoch and learning rate is to test the trials"
   ]
  },
  {
   "cell_type": "code",
   "execution_count": 146,
   "metadata": {},
   "outputs": [
    {
     "data": {
      "text/plain": [
       "0.8316958505990223"
      ]
     },
     "execution_count": 146,
     "metadata": {},
     "output_type": "execute_result"
    }
   ],
   "source": [
    "regressor=GDRegression()\n",
    "regressor.fit(x,y)\n",
    "y_predict=regressor.predict(x)\n",
    "r2_score(y,y_predict) "
   ]
  },
  {
   "cell_type": "code",
   "execution_count": 150,
   "metadata": {},
   "outputs": [
    {
     "data": {
      "text/plain": [
       "0.8696279163759676"
      ]
     },
     "execution_count": 150,
     "metadata": {},
     "output_type": "execute_result"
    }
   ],
   "source": [
    "from sklearn.linear_model import SGDRegressor\n",
    "r=SGDRegressor()\n",
    "r.fit(x,y)\n",
    "y_predict=r.predict(x)\n",
    "r2_score(y,y_predict)"
   ]
  },
  {
   "attachments": {},
   "cell_type": "markdown",
   "metadata": {},
   "source": [
    "# Stochastic Gradient Descent\n"
   ]
  },
  {
   "cell_type": "code",
   "execution_count": 161,
   "metadata": {},
   "outputs": [],
   "source": [
    "class SGDRegression:\n",
    "    def __init__(self,learning_rate=0.01,epochs=1000):\n",
    "        self.coef_=None\n",
    "        self.intercept_=None\n",
    "        self.learning_rate=learning_rate\n",
    "        self.epochs=epochs\n",
    "\n",
    "    def fit(self,x,y):\n",
    "        self.coef_=np.ones(x.shape[1])\n",
    "        self.intercept_=1\n",
    "\n",
    "        # update the values\n",
    "        for i in range(self.epochs):\n",
    "                index=np.random.randint(1,100)\n",
    "                for j in range(x.shape[1]):\n",
    "                    slope=(-2/x.shape[0])*(((y[index]-np.dot(x[index],self.coef_)-self.intercept_)*x[index][j]))\n",
    "                    self.coef_[j]-=self.learning_rate*slope\n",
    "                slope=(-2/x.shape[0])*((y[index]-np.dot(x[index],self.coef_)))\n",
    "                self.intercept_-=self.learning_rate*slope    \n",
    "\n",
    "    def predict(self,x):\n",
    "        return np.dot(x,self.coef_)+self.intercept_    "
   ]
  },
  {
   "cell_type": "code",
   "execution_count": 190,
   "metadata": {},
   "outputs": [
    {
     "data": {
      "text/plain": [
       "0.8309652220608906"
      ]
     },
     "execution_count": 190,
     "metadata": {},
     "output_type": "execute_result"
    }
   ],
   "source": [
    "regressor=SGDRegression(epochs=10000)\n",
    "regressor.fit(x,y)\n",
    "y_predict=regressor.predict(x)\n",
    "r2_score(y,y_predict) "
   ]
  },
  {
   "cell_type": "code",
   "execution_count": null,
   "metadata": {},
   "outputs": [],
   "source": []
  },
  {
   "cell_type": "code",
   "execution_count": null,
   "metadata": {},
   "outputs": [],
   "source": []
  }
 ],
 "metadata": {
  "kernelspec": {
   "display_name": "Python 3",
   "language": "python",
   "name": "python3"
  },
  "language_info": {
   "codemirror_mode": {
    "name": "ipython",
    "version": 3
   },
   "file_extension": ".py",
   "mimetype": "text/x-python",
   "name": "python",
   "nbconvert_exporter": "python",
   "pygments_lexer": "ipython3",
   "version": "3.11.3"
  },
  "orig_nbformat": 4
 },
 "nbformat": 4,
 "nbformat_minor": 2
}
