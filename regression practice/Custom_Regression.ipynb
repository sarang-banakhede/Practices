{
 "cells": [
  {
   "cell_type": "code",
   "execution_count": 1,
   "metadata": {},
   "outputs": [],
   "source": [
    "import pandas as pd\n",
    "import numpy as np\n",
    "import seaborn as sns\n",
    "import matplotlib.pyplot as plt\n",
    "from sklearn.metrics import r2_score\n",
    "from sklearn.datasets import make_regression"
   ]
  },
  {
   "attachments": {},
   "cell_type": "markdown",
   "metadata": {},
   "source": [
    "# Simple Linear Regression"
   ]
  },
  {
   "cell_type": "code",
   "execution_count": 2,
   "metadata": {},
   "outputs": [
    {
     "name": "stdout",
     "output_type": "stream",
     "text": [
      "Shapes (100, 1) (100,)\n",
      "Coef [24.64343444]\n",
      "Intercept -8.881784197001252e-16\n",
      "r2 score 1.0\n"
     ]
    }
   ],
   "source": [
    "from sklearn.linear_model import LinearRegression\n",
    "x,y=make_regression(n_samples=100,n_features=1,n_targets=1,n_informative=1)\n",
    "regressor=LinearRegression()\n",
    "regressor.fit(x,y)\n",
    "y_predict=regressor.predict(x)\n",
    "print(\"Shapes\",x.shape,y.shape)\n",
    "print(\"Coef\",regressor.coef_)\n",
    "print(\"Intercept\",regressor.intercept_)\n",
    "print(\"r2 score\",r2_score(y,y_predict))"
   ]
  },
  {
   "attachments": {},
   "cell_type": "markdown",
   "metadata": {},
   "source": [
    "# custom simple linear regression"
   ]
  },
  {
   "cell_type": "code",
   "execution_count": 3,
   "metadata": {},
   "outputs": [
    {
     "name": "stdout",
     "output_type": "stream",
     "text": [
      "Coef 24.64343443642742\n",
      "Intercept -8.881784197001252e-16\n",
      "r2 score 1.0\n"
     ]
    }
   ],
   "source": [
    "class Custom_Simple_Linear_regression:\n",
    "    def __init__(self):\n",
    "        self.slope=None\n",
    "        self.intercept=None\n",
    "\n",
    "    def fit(self,x,y):\n",
    "        x=x.flatten()\n",
    "        num=0\n",
    "        den=0\n",
    "        for i in range(len(y)):\n",
    "            num+=(y[i]-np.mean(y))*(x[i]-np.mean(x))\n",
    "            den+=(x[i]-np.mean(x))**2\n",
    "        self.slope=num/den\n",
    "        self.intercept=np.mean(y)-self.slope*np.mean(x)\n",
    "\n",
    "    def predict(self,x_test):\n",
    "        return [i*self.slope + self.intercept for i in x_test.flatten()]\n",
    "\n",
    "\n",
    "regressor=Custom_Simple_Linear_regression()\n",
    "regressor.fit(x,y)\n",
    "y_predict=regressor.predict(x)\n",
    "print(\"Coef\",regressor.slope)\n",
    "print(\"Intercept\",regressor.intercept)\n",
    "print(\"r2 score\",r2_score(y,y_predict))"
   ]
  },
  {
   "attachments": {},
   "cell_type": "markdown",
   "metadata": {},
   "source": [
    "# multiple linear regression"
   ]
  },
  {
   "cell_type": "code",
   "execution_count": 4,
   "metadata": {},
   "outputs": [
    {
     "name": "stdout",
     "output_type": "stream",
     "text": [
      "Coef [24.11813512  1.19683733 88.40405632 92.11045097  5.86620182]\n",
      "Intercept -1.3322676295501878e-15\n",
      "r2 score 1.0\n"
     ]
    }
   ],
   "source": [
    "x,y=make_regression(n_samples=100,n_features=5,n_targets=1,n_informative=5)\n",
    "regressor=LinearRegression()\n",
    "regressor.fit(x,y)\n",
    "y_predict=regressor.predict(x)\n",
    "print(\"Coef\",regressor.coef_)\n",
    "print(\"Intercept\",regressor.intercept_)\n",
    "print(\"r2 score\",r2_score(y,y_predict))"
   ]
  },
  {
   "attachments": {},
   "cell_type": "markdown",
   "metadata": {},
   "source": [
    "# custom multiple linear regression"
   ]
  },
  {
   "cell_type": "code",
   "execution_count": 5,
   "metadata": {},
   "outputs": [
    {
     "name": "stdout",
     "output_type": "stream",
     "text": [
      "Coef [24.11813512  1.19683733 88.40405632 92.11045097  5.86620182]\n",
      "Intercept 4.440892098500626e-16\n",
      "r2 score 1.0\n"
     ]
    }
   ],
   "source": [
    "class custom_multiple_linear_regression:\n",
    "    def __init__(self):\n",
    "        self.coef_=None\n",
    "        self.intercept_=None\n",
    "    \n",
    "    def fit(self,x,y):\n",
    "        x=np.insert(x,[0],[1],axis=1)\n",
    "        self.coef_=np.dot(np.linalg.inv(np.dot(x.T,x)),(np.dot(x.T,y)))\n",
    "        self.intercept_=self.coef_[0]\n",
    "        self.coef_=self.coef_[1:]\n",
    "\n",
    "    def predict(self,x):\n",
    "         return np.dot(x,self.coef_)+self.intercept_    \n",
    "\n",
    "\n",
    "regressor=custom_multiple_linear_regression()\n",
    "regressor.fit(x,y)\n",
    "y_predict=regressor.predict(x)\n",
    "print(\"Coef\",regressor.coef_)\n",
    "print(\"Intercept\",regressor.intercept_)\n",
    "print(\"r2 score\",r2_score(y,y_predict))"
   ]
  },
  {
   "attachments": {},
   "cell_type": "markdown",
   "metadata": {},
   "source": [
    "# ridge regression"
   ]
  },
  {
   "cell_type": "code",
   "execution_count": 24,
   "metadata": {},
   "outputs": [
    {
     "data": {
      "text/plain": [
       "0.5125619902742506"
      ]
     },
     "execution_count": 24,
     "metadata": {},
     "output_type": "execute_result"
    }
   ],
   "source": [
    "from sklearn.datasets import load_diabetes\n",
    "x,y=load_diabetes(return_X_y=True)\n",
    "from sklearn.linear_model import Ridge\n",
    "regressor=Ridge(alpha=0.1)\n",
    "regressor.fit(x,y)\n",
    "y_predict=regressor.predict(x)\n",
    "r2_score(y,y_predict)"
   ]
  },
  {
   "attachments": {},
   "cell_type": "markdown",
   "metadata": {},
   "source": [
    "# Custom Ridge Regression"
   ]
  },
  {
   "cell_type": "code",
   "execution_count": 26,
   "metadata": {},
   "outputs": [
    {
     "data": {
      "text/plain": [
       "0.5125617905814859"
      ]
     },
     "execution_count": 26,
     "metadata": {},
     "output_type": "execute_result"
    }
   ],
   "source": [
    "class Custom_Ridge_regression:\n",
    "    def __init__(self,alpha=0.1):\n",
    "        self.alpha=alpha\n",
    "        self.coef=None\n",
    "        self.intecept=None\n",
    "    def fit(self,x,y):\n",
    "        x=np.insert(x,0,1,axis=1)\n",
    "        self.coef=np.dot((np.linalg.inv(np.dot(x.T,x)+self.alpha*(np.identity(x.shape[1])))),(np.dot(x.T,y)))\n",
    "        self.intecept=self.coef[0]\n",
    "        self.coef=self.coef[1:]\n",
    "    def predict(self,x):\n",
    "        return np.dot(x,self.coef)+self.intecept\n",
    "r=Custom_Ridge_regression(alpha=0.1)\n",
    "r.fit(x,y)\n",
    "y_predict=r.predict(x)\n",
    "r2_score(y,y_predict)"
   ]
  },
  {
   "cell_type": "code",
   "execution_count": null,
   "metadata": {},
   "outputs": [],
   "source": []
  }
 ],
 "metadata": {
  "kernelspec": {
   "display_name": "Python 3",
   "language": "python",
   "name": "python3"
  },
  "language_info": {
   "codemirror_mode": {
    "name": "ipython",
    "version": 3
   },
   "file_extension": ".py",
   "mimetype": "text/x-python",
   "name": "python",
   "nbconvert_exporter": "python",
   "pygments_lexer": "ipython3",
   "version": "3.11.3"
  },
  "orig_nbformat": 4
 },
 "nbformat": 4,
 "nbformat_minor": 2
}
